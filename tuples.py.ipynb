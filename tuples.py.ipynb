{
 "cells": [
  {
   "cell_type": "code",
   "execution_count": 1,
   "metadata": {},
   "outputs": [
    {
     "name": "stdout",
     "output_type": "stream",
     "text": [
      "[1, 2]\n"
     ]
    }
   ],
   "source": [
    "def common_finder(l1,l2):\n",
    "    output=[]\n",
    "    for i in l1:\n",
    "        if i in l2:\n",
    "            output.append(i)\n",
    "    return output\n",
    "print(common_finder([1,2,5,8],[1,2,7,6]))\n",
    "            "
   ]
  },
  {
   "cell_type": "code",
   "execution_count": 3,
   "metadata": {},
   "outputs": [
    {
     "name": "stdout",
     "output_type": "stream",
     "text": [
      "2\n",
      "60\n"
     ]
    }
   ],
   "source": [
    "number=[6,60,2]\n",
    "print(min(number))\n",
    "print(max(number))"
   ]
  },
  {
   "cell_type": "code",
   "execution_count": 4,
   "metadata": {},
   "outputs": [
    {
     "name": "stdout",
     "output_type": "stream",
     "text": [
      "58\n"
     ]
    }
   ],
   "source": [
    "def greatest_diff(l):\n",
    "    return max(l)-min(l)\n",
    "number=[6,60,2]\n",
    "print(greatest_diff(number))"
   ]
  },
  {
   "cell_type": "code",
   "execution_count": 6,
   "metadata": {},
   "outputs": [
    {
     "name": "stdout",
     "output_type": "stream",
     "text": [
      "2\n"
     ]
    }
   ],
   "source": [
    "def sublist_counter(l):\n",
    "    count=0\n",
    "    for i in l:\n",
    "        if type(i)==list:\n",
    "            count+=1\n",
    "    return count\n",
    "mixed=[1,2,3,[1,2],[3,4]]\n",
    "print(sublist_counter(mixed))"
   ]
  },
  {
   "cell_type": "code",
   "execution_count": 7,
   "metadata": {},
   "outputs": [
    {
     "name": "stdout",
     "output_type": "stream",
     "text": [
      "('one', 'two')\n"
     ]
    }
   ],
   "source": [
    "# tuple data Structure\n",
    "# tuple can store any data type\n",
    "# most important are immutable,once tuple is created you can't update\n",
    "# data inside tuple\n",
    "\n",
    "example=('one','two','three')\n",
    "# no append,no insert,no pop, no remove\n",
    "days=('manday','tuesday')\n",
    "# tuples are faster than lists\n",
    "\n",
    "# methods used in tuples-\n",
    "# count,index\n",
    "# len function\n",
    "# slicing\n",
    "print(example[:2])"
   ]
  },
  {
   "cell_type": "code",
   "execution_count": 6,
   "metadata": {},
   "outputs": [
    {
     "name": "stdout",
     "output_type": "stream",
     "text": [
      "1\n",
      "2\n",
      "3\n",
      "4.0\n",
      "<class 'tuple'>\n"
     ]
    }
   ],
   "source": [
    "mixed=(1,2,3,4.0)\n",
    "for i in mixed:\n",
    "    print(i)\n",
    "print(type(mixed))"
   ]
  },
  {
   "cell_type": "code",
   "execution_count": 3,
   "metadata": {},
   "outputs": [
    {
     "name": "stdout",
     "output_type": "stream",
     "text": [
      "<class 'tuple'>\n"
     ]
    }
   ],
   "source": [
    "# tuple with one element\n",
    "nums=(1,)\n",
    "print(type(nums))"
   ]
  },
  {
   "cell_type": "code",
   "execution_count": 7,
   "metadata": {},
   "outputs": [
    {
     "name": "stdout",
     "output_type": "stream",
     "text": [
      "<class 'str'>\n"
     ]
    }
   ],
   "source": [
    "word=('word1')\n",
    "print(type(word))"
   ]
  },
  {
   "cell_type": "code",
   "execution_count": 8,
   "metadata": {},
   "outputs": [
    {
     "name": "stdout",
     "output_type": "stream",
     "text": [
      "<class 'tuple'>\n"
     ]
    }
   ],
   "source": [
    "word=('word1',)\n",
    "print(type(word))"
   ]
  },
  {
   "cell_type": "code",
   "execution_count": 9,
   "metadata": {},
   "outputs": [
    {
     "name": "stdout",
     "output_type": "stream",
     "text": [
      "<class 'tuple'>\n"
     ]
    }
   ],
   "source": [
    "guitar='yamaha','baton rouge','taylor'\n",
    "print(type(guitar))"
   ]
  },
  {
   "cell_type": "code",
   "execution_count": 10,
   "metadata": {},
   "outputs": [
    {
     "name": "stdout",
     "output_type": "stream",
     "text": [
      "maneli jamal\n"
     ]
    }
   ],
   "source": [
    "guitarists=('maneli jamal','eddie van der meer','andhrew foy')\n",
    "guitarist1,guitarist2,guitarist3=(guitarists)\n",
    "print(guitarist1)"
   ]
  },
  {
   "cell_type": "code",
   "execution_count": 11,
   "metadata": {},
   "outputs": [
    {
     "name": "stdout",
     "output_type": "stream",
     "text": [
      "('Southern magnolia', ['TOkyo ghoul theme'])\n"
     ]
    }
   ],
   "source": [
    "favorites=('Southern magnolia',['TOkyo ghoul theme','landscape'])\n",
    "favorites[1].pop()\n",
    "print(favorites)"
   ]
  },
  {
   "cell_type": "code",
   "execution_count": 12,
   "metadata": {},
   "outputs": [
    {
     "name": "stdout",
     "output_type": "stream",
     "text": [
      "('Southern magnolia', ['TOkyo ghoul theme', 'we made it'])\n"
     ]
    }
   ],
   "source": [
    "favorites=('Southern magnolia',['TOkyo ghoul theme'])\n",
    "favorites[1].append('we made it')\n",
    "print(favorites)"
   ]
  },
  {
   "cell_type": "code",
   "execution_count": 13,
   "metadata": {},
   "outputs": [
    {
     "name": "stdout",
     "output_type": "stream",
     "text": [
      "1\n",
      "4.0\n",
      "10.0\n"
     ]
    }
   ],
   "source": [
    "mixed=(1,2,3,4.0)\n",
    "print(min(mixed))\n",
    "print(max(mixed))\n",
    "print(sum(mixed))"
   ]
  },
  {
   "cell_type": "code",
   "execution_count": 14,
   "metadata": {},
   "outputs": [
    {
     "name": "stdout",
     "output_type": "stream",
     "text": [
      "(5, 6)\n"
     ]
    }
   ],
   "source": [
    "def func(int1,int2):\n",
    "    add=int1+int2\n",
    "    multiply=int1*int2\n",
    "    return add, multiply\n",
    "print(func(2,3))"
   ]
  },
  {
   "cell_type": "code",
   "execution_count": 15,
   "metadata": {},
   "outputs": [
    {
     "name": "stdout",
     "output_type": "stream",
     "text": [
      "5\n",
      "6\n"
     ]
    }
   ],
   "source": [
    "def func(int1,int2):\n",
    "    add=int1+int2\n",
    "    multiply=int1*int2\n",
    "    return add,multiply\n",
    "add,multiply=func(2,3)\n",
    "print(add)\n",
    "print(multiply)"
   ]
  },
  {
   "cell_type": "code",
   "execution_count": 17,
   "metadata": {},
   "outputs": [
    {
     "name": "stdout",
     "output_type": "stream",
     "text": [
      "[1, 2, 3, 4, 5, 6, 7, 8, 9, 10]\n"
     ]
    }
   ],
   "source": [
    "num=list(range(1,11))\n",
    "print(num)"
   ]
  },
  {
   "cell_type": "code",
   "execution_count": 19,
   "metadata": {},
   "outputs": [
    {
     "name": "stdout",
     "output_type": "stream",
     "text": [
      "(1, 2, 3, 4, 5, 6, 7, 8, 9, 10)\n"
     ]
    }
   ],
   "source": [
    "num=tuple(range(1,11))\n",
    "print(num)"
   ]
  },
  {
   "cell_type": "code",
   "execution_count": 21,
   "metadata": {},
   "outputs": [
    {
     "name": "stdout",
     "output_type": "stream",
     "text": [
      "[1, 2, 3, 4, 5, 6, 7, 8, 9, 10]\n",
      "<class 'str'>\n"
     ]
    }
   ],
   "source": [
    "num=str([1,2,3,4,5,6,7,8,9,10])\n",
    "print(num)\n",
    "print(type(num))"
   ]
  }
 ],
 "metadata": {
  "kernelspec": {
   "display_name": "Python 3",
   "language": "python",
   "name": "python3"
  },
  "language_info": {
   "codemirror_mode": {
    "name": "ipython",
    "version": 3
   },
   "file_extension": ".py",
   "mimetype": "text/x-python",
   "name": "python",
   "nbconvert_exporter": "python",
   "pygments_lexer": "ipython3",
   "version": "3.7.1"
  }
 },
 "nbformat": 4,
 "nbformat_minor": 2
}
