{
 "cells": [
  {
   "cell_type": "code",
   "execution_count": 1,
   "metadata": {},
   "outputs": [
    {
     "name": "stdout",
     "output_type": "stream",
     "text": [
      "8\n"
     ]
    }
   ],
   "source": [
    "#len()\n",
    "print(len(\"language\"))"
   ]
  },
  {
   "cell_type": "code",
   "execution_count": 2,
   "metadata": {},
   "outputs": [
    {
     "name": "stdout",
     "output_type": "stream",
     "text": [
      "15\n"
     ]
    }
   ],
   "source": [
    "print(len(\"language python\"))"
   ]
  },
  {
   "cell_type": "code",
   "execution_count": 3,
   "metadata": {},
   "outputs": [
    {
     "name": "stdout",
     "output_type": "stream",
     "text": [
      "13\n"
     ]
    }
   ],
   "source": [
    "name=\"priya prakash\"\n",
    "print(len(name))"
   ]
  },
  {
   "cell_type": "code",
   "execution_count": 5,
   "metadata": {},
   "outputs": [
    {
     "name": "stdout",
     "output_type": "stream",
     "text": [
      "priya prakash\n"
     ]
    }
   ],
   "source": [
    "# lower()\n",
    "name=\"PRIYA PRAKASH\"\n",
    "print(name.lower())"
   ]
  },
  {
   "cell_type": "code",
   "execution_count": 6,
   "metadata": {},
   "outputs": [
    {
     "name": "stdout",
     "output_type": "stream",
     "text": [
      "PRIYA PRAKASH\n"
     ]
    }
   ],
   "source": [
    "# upper()\n",
    "name=\"priya prakash\"\n",
    "print(name.upper())"
   ]
  },
  {
   "cell_type": "code",
   "execution_count": 9,
   "metadata": {},
   "outputs": [
    {
     "name": "stdout",
     "output_type": "stream",
     "text": [
      "Priya Prakash\n"
     ]
    }
   ],
   "source": [
    "# title()\n",
    "name=\"priya prakash\"\n",
    "print(name.title())"
   ]
  },
  {
   "cell_type": "code",
   "execution_count": 11,
   "metadata": {},
   "outputs": [
    {
     "name": "stdout",
     "output_type": "stream",
     "text": [
      "3\n"
     ]
    }
   ],
   "source": [
    "# count()\n",
    "name=\"priya prakash\"\n",
    "print(name.count('a'))"
   ]
  },
  {
   "cell_type": "code",
   "execution_count": 15,
   "metadata": {},
   "outputs": [
    {
     "name": "stdout",
     "output_type": "stream",
     "text": [
      "enter the name of user and the character that the user want to countshayam a\n",
      "length of the name is6\n",
      "count the character that user inputed2\n"
     ]
    }
   ],
   "source": [
    "# take two comma separated inputs from user \n",
    "# 1.user's name\n",
    "# 2.a single character\n",
    "# output -2 print lines\n",
    "# 1.user's name lenght\n",
    "# 2.count the character that user inputed\n",
    "name,char=input(\"enter the name and character\").split()\n",
    "print(f\"length of the name is{len(name)}\")\n",
    "print(f\"count the character that user inputed{name.count('a')}\")"
   ]
  },
  {
   "cell_type": "code",
   "execution_count": 17,
   "metadata": {},
   "outputs": [
    {
     "name": "stdout",
     "output_type": "stream",
     "text": [
      "...... priya ......\n"
     ]
    }
   ],
   "source": [
    "# spaces using strip method\n",
    "name=\" priya \"\n",
    "dots=\"......\"\n",
    "print(dots+name+dots)"
   ]
  },
  {
   "cell_type": "code",
   "execution_count": 18,
   "metadata": {},
   "outputs": [
    {
     "name": "stdout",
     "output_type": "stream",
     "text": [
      "-----priya -----\n"
     ]
    }
   ],
   "source": [
    "name=\" priya \"\n",
    "dots=\"-----\"\n",
    "print(dots+name.lstrip()+dots)"
   ]
  },
  {
   "cell_type": "code",
   "execution_count": 19,
   "metadata": {},
   "outputs": [
    {
     "name": "stdout",
     "output_type": "stream",
     "text": [
      "---- priya----\n"
     ]
    }
   ],
   "source": [
    "name=\" priya \"\n",
    "dots=\"----\"\n",
    "print(dots+name.rstrip()+dots)"
   ]
  },
  {
   "cell_type": "code",
   "execution_count": 20,
   "metadata": {},
   "outputs": [
    {
     "name": "stdout",
     "output_type": "stream",
     "text": [
      "-------priya-------\n"
     ]
    }
   ],
   "source": [
    "name=\" priya \"\n",
    "dots=\"-------\"\n",
    "print(dots+name.strip()+dots)"
   ]
  },
  {
   "cell_type": "code",
   "execution_count": 21,
   "metadata": {},
   "outputs": [
    {
     "name": "stdout",
     "output_type": "stream",
     "text": [
      "-----priya prakash-----\n"
     ]
    }
   ],
   "source": [
    "name=\" priya prakash \"\n",
    "dots=\"-----\"\n",
    "print(dots+name.strip()+dots)"
   ]
  },
  {
   "cell_type": "code",
   "execution_count": 22,
   "metadata": {},
   "outputs": [
    {
     "name": "stdout",
     "output_type": "stream",
     "text": [
      "----priyaprakash----\n"
     ]
    }
   ],
   "source": [
    "name=\" priya prakash\"\n",
    "dots=\"----\"\n",
    "print(dots+name.replace(\" \",\"\")+dots)"
   ]
  },
  {
   "cell_type": "code",
   "execution_count": 26,
   "metadata": {},
   "outputs": [
    {
     "name": "stdout",
     "output_type": "stream",
     "text": [
      "enter the name and characterharshit,h\n",
      "length of the name is7\n",
      "character count2\n"
     ]
    }
   ],
   "source": [
    "name,char=input(\"enter the name and character\").split(\",\")\n",
    "print(f'length of the name is{len(name)}')\n",
    "print(f'character count{name.strip().lower().count(char.strip().lower())}')"
   ]
  },
  {
   "cell_type": "code",
   "execution_count": 34,
   "metadata": {},
   "outputs": [
    {
     "name": "stdout",
     "output_type": "stream",
     "text": [
      "she_is_beautiful_and_she_is_good_dancer\n",
      "she was beautiful and she was good dancer\n",
      "she was beautiful and she is good dancer\n",
      "4\n",
      "4\n",
      "0\n",
      "25\n"
     ]
    }
   ],
   "source": [
    "# find and replace method\n",
    "string=\"she is beautiful and she is good dancer\"\n",
    "print(string.replace(\" \",\"_\"))\n",
    "string=\"she is beautiful and she is good dancer\"\n",
    "print(string.replace(\"is\",\"was\"))\n",
    "string=\"she is beautiful and she is good dancer\"\n",
    "print(string.replace(\"is\",\"was\",1))\n",
    "name=\"priya\"\n",
    "print(name.find('a'))\n",
    "string=\"she is beautiful and she is good dancer\"\n",
    "print(string.find('is'))\n",
    "string=\"is she beautiful and she is good dancer\"\n",
    "print(string.find('is'))\n",
    "string=\"is she beautiful and she is good dancer\"\n",
    "print(string.find('is',1))"
   ]
  },
  {
   "cell_type": "code",
   "execution_count": null,
   "metadata": {},
   "outputs": [],
   "source": [
    "\n"
   ]
  }
 ],
 "metadata": {
  "kernelspec": {
   "display_name": "Python 3",
   "language": "python",
   "name": "python3"
  },
  "language_info": {
   "codemirror_mode": {
    "name": "ipython",
    "version": 3
   },
   "file_extension": ".py",
   "mimetype": "text/x-python",
   "name": "python",
   "nbconvert_exporter": "python",
   "pygments_lexer": "ipython3",
   "version": "3.7.1"
  }
 },
 "nbformat": 4,
 "nbformat_minor": 2
}
