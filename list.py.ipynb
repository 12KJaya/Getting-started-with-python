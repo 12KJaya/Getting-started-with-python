{
 "cells": [
  {
   "cell_type": "code",
   "execution_count": 1,
   "metadata": {},
   "outputs": [
    {
     "name": "stdout",
     "output_type": "stream",
     "text": [
      "[1, 2, 3, 4]\n"
     ]
    }
   ],
   "source": [
    "# list-ordered collection of items\n",
    "numbers=[1,2,3,4]\n",
    "print(numbers)"
   ]
  },
  {
   "cell_type": "code",
   "execution_count": 2,
   "metadata": {},
   "outputs": [
    {
     "name": "stdout",
     "output_type": "stream",
     "text": [
      "['word1', 'word2', 'word3']\n"
     ]
    }
   ],
   "source": [
    "words=[\"word1\",\"word2\",\"word3\"]\n",
    "print(words)"
   ]
  },
  {
   "cell_type": "code",
   "execution_count": 4,
   "metadata": {},
   "outputs": [
    {
     "name": "stdout",
     "output_type": "stream",
     "text": [
      "[1, 2, 3, 4, 'five', 'six', 2.3, None]\n"
     ]
    }
   ],
   "source": [
    "mixed=[1,2,3,4,\"five\",\"six\",2.3,None]\n",
    "print(mixed)"
   ]
  },
  {
   "cell_type": "code",
   "execution_count": 5,
   "metadata": {},
   "outputs": [
    {
     "name": "stdout",
     "output_type": "stream",
     "text": [
      "4\n"
     ]
    }
   ],
   "source": [
    "number=[1,2,3,4]\n",
    "print(number[3])"
   ]
  },
  {
   "cell_type": "code",
   "execution_count": 8,
   "metadata": {},
   "outputs": [
    {
     "name": "stdout",
     "output_type": "stream",
     "text": [
      "['word1', 'word2']\n"
     ]
    }
   ],
   "source": [
    "words=[\"word1\",\"word2\",\"word3\"]\n",
    "print(words[:2])"
   ]
  },
  {
   "cell_type": "code",
   "execution_count": 9,
   "metadata": {},
   "outputs": [
    {
     "name": "stdout",
     "output_type": "stream",
     "text": [
      "None\n"
     ]
    }
   ],
   "source": [
    "mixed=[1,2,3,4,\"five\",\"six\",2.3,None]\n",
    "print(mixed[-1])"
   ]
  },
  {
   "cell_type": "code",
   "execution_count": 10,
   "metadata": {},
   "outputs": [
    {
     "name": "stdout",
     "output_type": "stream",
     "text": [
      "[1, 'two', 3, 4, 'five', 'six', 2.3, None]\n"
     ]
    }
   ],
   "source": [
    "mixed=[1,2,3,4,\"five\",\"six\",2.3,None]\n",
    "mixed[1]=\"two\"\n",
    "print(mixed)"
   ]
  },
  {
   "cell_type": "code",
   "execution_count": 11,
   "metadata": {},
   "outputs": [
    {
     "name": "stdout",
     "output_type": "stream",
     "text": [
      "[1, 't', 'w', 'o']\n"
     ]
    }
   ],
   "source": [
    "mixed=[1,2,3,4,\"five\",\"six\",2.3,None]\n",
    "mixed[1:]=\"two\"\n",
    "print(mixed)"
   ]
  },
  {
   "cell_type": "code",
   "execution_count": 12,
   "metadata": {},
   "outputs": [
    {
     "name": "stdout",
     "output_type": "stream",
     "text": [
      "[1, 'two', 'three', 'four']\n"
     ]
    }
   ],
   "source": [
    "mixed=[1,2,3,4,\"five\",\"six\",2.3,None]\n",
    "mixed[1:]=[\"two\",\"three\",\"four\"]\n",
    "print(mixed)"
   ]
  },
  {
   "cell_type": "code",
   "execution_count": 14,
   "metadata": {},
   "outputs": [
    {
     "name": "stdout",
     "output_type": "stream",
     "text": [
      "['grapes', 'apple', 'mango']\n"
     ]
    }
   ],
   "source": [
    "# how to add data to your list\n",
    "fruits=['grapes','apple']\n",
    "fruits.append('mango')\n",
    "print(fruits)"
   ]
  },
  {
   "cell_type": "code",
   "execution_count": 15,
   "metadata": {},
   "outputs": [
    {
     "name": "stdout",
     "output_type": "stream",
     "text": [
      "['mango', 'grapes']\n"
     ]
    }
   ],
   "source": [
    "fruits=[]\n",
    "fruits.append('mango')\n",
    "fruits.append('grapes')\n",
    "print(fruits)"
   ]
  },
  {
   "cell_type": "code",
   "execution_count": 16,
   "metadata": {},
   "outputs": [
    {
     "name": "stdout",
     "output_type": "stream",
     "text": [
      "['mango', 'grapes', 'orange']\n"
     ]
    }
   ],
   "source": [
    "fruits=['mango','orange']\n",
    "fruits.insert(1,'grapes')\n",
    "print(fruits)"
   ]
  },
  {
   "cell_type": "code",
   "execution_count": 18,
   "metadata": {},
   "outputs": [
    {
     "name": "stdout",
     "output_type": "stream",
     "text": [
      "['mango', 'orange', 'grapes']\n"
     ]
    }
   ],
   "source": [
    "fruits=['mango','orange']\n",
    "fruits.insert(20,'grapes')\n",
    "print(fruits)"
   ]
  },
  {
   "cell_type": "code",
   "execution_count": 19,
   "metadata": {},
   "outputs": [
    {
     "name": "stdout",
     "output_type": "stream",
     "text": [
      "['mango', 'orange', 'grapes', 'apple']\n"
     ]
    }
   ],
   "source": [
    "# Concatenate two strings\n",
    "fruits1=['mango','orange']\n",
    "fruits2=['grapes','apple']\n",
    "fruits=fruits1+fruits2\n",
    "print(fruits)"
   ]
  },
  {
   "cell_type": "code",
   "execution_count": 20,
   "metadata": {},
   "outputs": [
    {
     "name": "stdout",
     "output_type": "stream",
     "text": [
      "['mango', 'orange', 'grapes', 'apple']\n",
      "['grapes', 'apple']\n"
     ]
    }
   ],
   "source": [
    "fruits1=['mango','orange']\n",
    "fruits2=['grapes','apple']\n",
    "fruits1.extend(fruits2)\n",
    "print(fruits1)\n",
    "print(fruits2)"
   ]
  },
  {
   "cell_type": "code",
   "execution_count": 21,
   "metadata": {},
   "outputs": [
    {
     "name": "stdout",
     "output_type": "stream",
     "text": [
      "['mango', 'orange', ['grapes', 'apple']]\n",
      "['grapes', 'apple']\n"
     ]
    }
   ],
   "source": [
    "fruits1=['mango','orange']\n",
    "fruits2=['grapes','apple']\n",
    "fruits1.append(fruits2)\n",
    "print(fruits1)\n",
    "print(fruits2)"
   ]
  },
  {
   "cell_type": "code",
   "execution_count": 22,
   "metadata": {},
   "outputs": [
    {
     "name": "stdout",
     "output_type": "stream",
     "text": [
      "['orange', 'apple', 'pear', 'banana']\n"
     ]
    }
   ],
   "source": [
    "fruits=['orange','apple','pear','banana','kiwi']\n",
    "fruits.pop()\n",
    "print(fruits)"
   ]
  },
  {
   "cell_type": "code",
   "execution_count": 23,
   "metadata": {},
   "outputs": [
    {
     "name": "stdout",
     "output_type": "stream",
     "text": [
      "['orange', 'pear', 'banana', 'kiwi']\n"
     ]
    }
   ],
   "source": [
    "fruits=['orange','apple','pear','banana','kiwi']\n",
    "fruits.pop(1)\n",
    "print(fruits)"
   ]
  },
  {
   "cell_type": "code",
   "execution_count": 24,
   "metadata": {},
   "outputs": [
    {
     "name": "stdout",
     "output_type": "stream",
     "text": [
      "['orange', 'pear', 'banana', 'kiwi']\n"
     ]
    }
   ],
   "source": [
    "fruits=['orange','apple','pear','banana','kiwi']\n",
    "del fruits[1]\n",
    "print(fruits)"
   ]
  },
  {
   "cell_type": "code",
   "execution_count": 25,
   "metadata": {},
   "outputs": [
    {
     "name": "stdout",
     "output_type": "stream",
     "text": [
      "['orange', 'apple', 'pear', 'kiwi']\n"
     ]
    }
   ],
   "source": [
    "fruits=['orange','apple','pear','banana','kiwi']\n",
    "fruits.remove('banana')\n",
    "print(fruits)"
   ]
  },
  {
   "cell_type": "code",
   "execution_count": 26,
   "metadata": {},
   "outputs": [
    {
     "name": "stdout",
     "output_type": "stream",
     "text": [
      "['orange', 'pear', 'banana', 'apple', 'kiwi']\n"
     ]
    }
   ],
   "source": [
    "fruits=['orange','apple','pear','banana','apple','kiwi']\n",
    "fruits.remove('apple')\n",
    "print(fruits)"
   ]
  },
  {
   "cell_type": "code",
   "execution_count": 28,
   "metadata": {},
   "outputs": [
    {
     "name": "stdout",
     "output_type": "stream",
     "text": [
      "apple is not present\n"
     ]
    }
   ],
   "source": [
    "fruits=['orange','apple','pear','banana','kiwi']\n",
    "if 'mango'in fruits:\n",
    "    print('apple is present')\n",
    "else:\n",
    "    print(\"apple is not present\")"
   ]
  },
  {
   "cell_type": "code",
   "execution_count": 29,
   "metadata": {},
   "outputs": [
    {
     "name": "stdout",
     "output_type": "stream",
     "text": [
      "2\n"
     ]
    }
   ],
   "source": [
    "fruits=['orange','apple','pear','banana','kiwi','apple','banana']\n",
    "print(fruits.count('apple'))\n"
   ]
  },
  {
   "cell_type": "code",
   "execution_count": 30,
   "metadata": {},
   "outputs": [
    {
     "name": "stdout",
     "output_type": "stream",
     "text": [
      "['apple', 'apple', 'banana', 'banana', 'kiwi', 'orange', 'pear']\n"
     ]
    }
   ],
   "source": [
    "fruits=['orange','apple','pear','banana','kiwi','apple','banana']\n",
    "fruits.sort()\n",
    "print(fruits)"
   ]
  },
  {
   "cell_type": "code",
   "execution_count": 31,
   "metadata": {},
   "outputs": [
    {
     "name": "stdout",
     "output_type": "stream",
     "text": [
      "[1, 3, 5, 9, 10]\n"
     ]
    }
   ],
   "source": [
    "numbers=[3,5,1,9,10]\n",
    "numbers.sort()\n",
    "print(numbers)"
   ]
  },
  {
   "cell_type": "code",
   "execution_count": 35,
   "metadata": {},
   "outputs": [
    {
     "name": "stdout",
     "output_type": "stream",
     "text": [
      "[1, 3, 5, 9, 10]\n",
      "[3, 5, 1, 9, 10]\n"
     ]
    }
   ],
   "source": [
    "numbers=[3,5,1,9,10]\n",
    "print(sorted(numbers))\n",
    "print(numbers)"
   ]
  },
  {
   "cell_type": "code",
   "execution_count": 36,
   "metadata": {},
   "outputs": [
    {
     "name": "stdout",
     "output_type": "stream",
     "text": [
      "[]\n"
     ]
    }
   ],
   "source": [
    "numbers=[3,5,1,9,10]\n",
    "numbers.clear()\n",
    "print(numbers)"
   ]
  },
  {
   "cell_type": "code",
   "execution_count": 39,
   "metadata": {},
   "outputs": [
    {
     "name": "stdout",
     "output_type": "stream",
     "text": [
      "[3, 5, 1, 9, 10]\n"
     ]
    }
   ],
   "source": [
    "numbers=[3,5,1,9,10]\n",
    "numbers_copy=numbers.copy()\n",
    "print(numbers_copy)"
   ]
  },
  {
   "cell_type": "code",
   "execution_count": null,
   "metadata": {},
   "outputs": [],
   "source": []
  }
 ],
 "metadata": {
  "kernelspec": {
   "display_name": "Python 3",
   "language": "python",
   "name": "python3"
  },
  "language_info": {
   "codemirror_mode": {
    "name": "ipython",
    "version": 3
   },
   "file_extension": ".py",
   "mimetype": "text/x-python",
   "name": "python",
   "nbconvert_exporter": "python",
   "pygments_lexer": "ipython3",
   "version": "3.7.1"
  }
 },
 "nbformat": 4,
 "nbformat_minor": 2
}
