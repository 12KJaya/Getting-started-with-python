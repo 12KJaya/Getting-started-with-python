{
 "cells": [
  {
   "cell_type": "code",
   "execution_count": 2,
   "metadata": {},
   "outputs": [
    {
     "name": "stdout",
     "output_type": "stream",
     "text": [
      "hello world\n",
      "hello world\n"
     ]
    }
   ],
   "source": [
    "#print()....use to print something on screen,whatever you will write inside the common braces it will print on screen.\n",
    "#if you want to print \"helloworld\" on your screen.\n",
    "print(\"hello world\")\n",
    "print('hello world')\n",
    "#Note:-here we can use doublequote and singlequote as well inside the common braces. "
   ]
  },
  {
   "cell_type": "code",
   "execution_count": 4,
   "metadata": {},
   "outputs": [
    {
     "name": "stdout",
     "output_type": "stream",
     "text": [
      "hello'world'world\n",
      "hello\"world\"world\n",
      "I'm Jaya\n"
     ]
    }
   ],
   "source": [
    "#String....collection of characters inside doublequote or singlequote.\n",
    "#Note:-you can use doublequote inside singlequote or singlequote inside doublequote.\n",
    "# but you cannot use singlequote inside singlequote and doublequote inside doublequote.if you do so you will get a syntax error.\n",
    "print(\"hello'world'world\")\n",
    "print('hello\"world\"world')\n",
    "print(\"I'm Jaya\")"
   ]
  },
  {
   "cell_type": "code",
   "execution_count": 5,
   "metadata": {},
   "outputs": [
    {
     "name": "stdout",
     "output_type": "stream",
     "text": [
      "hello\"world\"world\n"
     ]
    }
   ],
   "source": [
    "#Escape Squence....\n",
    "print(\"hello\\\"world\\\"world\")\n",
    "# EscapeSquence        Meaning\n",
    "#    \\'              Singlequote\n",
    "#    \\\"              Doublequote\n",
    "#    \\\\              Backslash\n",
    "#    \\n              newline\n",
    "#    \\t              tab\n",
    "#    \\b             backspace"
   ]
  },
  {
   "cell_type": "code",
   "execution_count": 10,
   "metadata": {},
   "outputs": [
    {
     "name": "stdout",
     "output_type": "stream",
     "text": [
      "I'm jaya\n",
      "line A\n",
      " line B\n",
      "line A\n",
      " line B\n",
      " line C\n",
      "name\tJaya\n",
      "this is \\ backslash\n",
      "this is backslash\\\n",
      "this is doublebackslash\\\\\n"
     ]
    }
   ],
   "source": [
    "# some examples....\n",
    "print(\"I'm jaya\")\n",
    "print(\"line A\\n line B\")\n",
    "print(\"line A\\n line B\\n line C\")\n",
    "print(\"name\\tJaya\")\n",
    "print(\"this is \\ backslash\")\n",
    "# you cannot write like this print(\"this is backslash\\\")because the compiler will get confuse and it think that the line is not complete.\n",
    "print(\"this is backslash\\\\\")\n",
    "print(\"this is doublebackslash\\\\\\\\\")"
   ]
  },
  {
   "cell_type": "code",
   "execution_count": 13,
   "metadata": {},
   "outputs": [
    {
     "name": "stdout",
     "output_type": "stream",
     "text": [
      "lineA\n",
      "lineB\n",
      "lineC\n"
     ]
    }
   ],
   "source": [
    "# Comment....Information for the user.\n",
    "# it is for the user. by using comment a person can understand why he had written this code.\n",
    "# use \"#\" Symbol for comment.\n",
    "# this is comment\n",
    "print(\"lineA\\nlineB\\nlineC\")\n",
    "# print ctrl+/....to make the whole line comment out.and if press twice it will uncommented."
   ]
  },
  {
   "cell_type": "code",
   "execution_count": 14,
   "metadata": {},
   "outputs": [
    {
     "name": "stdout",
     "output_type": "stream",
     "text": [
      "lineA\\nlineB\n",
      "lineA\\tlineB\n",
      "this is double backslash\\\\\n",
      "these are 4 backslash\\\\\\\\\n"
     ]
    }
   ],
   "source": [
    "# Escape Character as normal text....\n",
    "# if you want output like this....lineA\\nlineB\n",
    "print(\"lineA\\\\nlineB\")\n",
    "print(\"lineA\\\\tlineB\")\n",
    "print(\"this is double backslash\\\\\\\\\")\n",
    "print(\"these are 4 backslash\\\\\\\\\\\\\\\\\")"
   ]
  },
  {
   "cell_type": "code",
   "execution_count": 15,
   "metadata": {},
   "outputs": [
    {
     "name": "stdout",
     "output_type": "stream",
     "text": [
      "\\\"\\'\n"
     ]
    }
   ],
   "source": [
    "# Some more examples....\n",
    "# if you want output like this\\\"\\'\n",
    "print(\"\\\\\\\"\\\\\\'\")"
   ]
  },
  {
   "cell_type": "code",
   "execution_count": 16,
   "metadata": {},
   "outputs": [
    {
     "name": "stdout",
     "output_type": "stream",
     "text": [
      "this is \\\\ double backslash.\n",
      "these are /\\/\\/\\/\\/\\ mountains.\n",
      "he\tis\tawesome\n",
      "\\\"\\'\\t\\'\n"
     ]
    }
   ],
   "source": [
    "# Exercise\n",
    "# print the following lines\n",
    "# this is \\\\ double backslash.\n",
    "# these are /\\/\\/\\/\\/\\ mountains.\n",
    "# he is awesome (use escape sequence instead manual spaces)\n",
    "# \\\"\\'\\t\\'(print this as output)\n",
    "print(\"this is \\\\\\\\ double backslash.\")\n",
    "print(\"these are /\\\\/\\\\/\\\\/\\\\/\\\\ mountains.\")\n",
    "print(\"he\\tis\\tawesome\")\n",
    "print(\"\\\\\\\"\\\\\\'\\\\t\\\\'\")"
   ]
  },
  {
   "cell_type": "code",
   "execution_count": 3,
   "metadata": {},
   "outputs": [
    {
     "name": "stdout",
     "output_type": "stream",
     "text": [
      "lineA\\nlineB\n",
      "lineA\\\"lineB\n"
     ]
    }
   ],
   "source": [
    "# Row Strings....if you use \"r\" in front of string then it will normally print the statement.\n",
    "print(r\"lineA\\nlineB\")\n",
    "# Note:- we can use  escape squence as normal string by using \"r\" in front of string.\n",
    "print(r\"lineA\\\"lineB\")\n"
   ]
  },
  {
   "cell_type": "code",
   "execution_count": 4,
   "metadata": {},
   "outputs": [
    {
     "ename": "SyntaxError",
     "evalue": "(unicode error) 'unicodeescape' codec can't decode bytes in position 0-8: truncated \\UXXXXXXXX escape (<ipython-input-4-0ba24ce606ac>, line 6)",
     "output_type": "error",
     "traceback": [
      "\u001b[1;36m  File \u001b[1;32m\"<ipython-input-4-0ba24ce606ac>\"\u001b[1;36m, line \u001b[1;32m6\u001b[0m\n\u001b[1;33m    print(\"\\U000F602\")\u001b[0m\n\u001b[1;37m         ^\u001b[0m\n\u001b[1;31mSyntaxError\u001b[0m\u001b[1;31m:\u001b[0m (unicode error) 'unicodeescape' codec can't decode bytes in position 0-8: truncated \\UXXXXXXXX escape\n"
     ]
    }
   ],
   "source": [
    "#Emojis\n",
    "# website ....https://unicode.org/emoji/charts/fultemoji_list.html\n",
    "# copy the code of the emoji that you want to print.\n",
    "# and write as-\n",
    "# print(\"UTF602\") and replace the symbol by three zero and put backslash in front of code.\n",
    "print(\"\\U000F602\")"
   ]
  },
  {
   "cell_type": "code",
   "execution_count": 5,
   "metadata": {},
   "outputs": [
    {
     "name": "stdout",
     "output_type": "stream",
     "text": [
      "5\n",
      "14\n",
      "5\n",
      "-1\n",
      "6\n",
      "0.6666666666666666\n",
      "0\n",
      "8\n"
     ]
    }
   ],
   "source": [
    "print(2+3)\n",
    "print(2+3*4)\n",
    "# operators     Description     \n",
    "#    +           Addition   \n",
    "#    -           Subtraction\n",
    "#    *           Multiplication\n",
    "#    /           Float Division\n",
    "#    //          Integer Division\n",
    "#    %           modulo,its gives you remainder\n",
    "#    **          Exponent\n",
    "print(2+3)\n",
    "print(2-3)\n",
    "print(2*3)\n",
    "print(2/3)\n",
    "print(2//3)\n",
    "print(2**3)\n"
   ]
  },
  {
   "cell_type": "code",
   "execution_count": 8,
   "metadata": {},
   "outputs": [
    {
     "name": "stdout",
     "output_type": "stream",
     "text": [
      "1.4142135623730951\n",
      "1.4142\n"
     ]
    }
   ],
   "source": [
    "# to find the root 2 value\n",
    "print(2**0.5)\n",
    "# the above answer is too long to get round answer\n",
    "print(round(2**0.5,4))"
   ]
  },
  {
   "cell_type": "code",
   "execution_count": 5,
   "metadata": {},
   "outputs": [
    {
     "name": "stdout",
     "output_type": "stream",
     "text": [
      "1\n",
      "10\n",
      "2.5\n",
      "0.5\n",
      "512\n"
     ]
    }
   ],
   "source": [
    "# precedence rule....to evaluate complex expression \n",
    "# python follows the rule of precedence,it governs the order in which the operation takes place.\n",
    "#      operators                        precedence and associativity rule\n",
    "#      parenthese                          highest\n",
    "#      exponent                            right to left\n",
    "#      *,/,//,%                            left to right\n",
    "#      +,-                                 left to right\n",
    "print(3%2)\n",
    "print((2+3)*2)\n",
    "print((2+3)/2)\n",
    "print((2+3)*5/2%6)\n",
    "print(2**3**2)"
   ]
  },
  {
   "cell_type": "code",
   "execution_count": 10,
   "metadata": {},
   "outputs": [
    {
     "name": "stdout",
     "output_type": "stream",
     "text": [
      "2\n",
      "4\n",
      "jaya\n",
      "123\n"
     ]
    }
   ],
   "source": [
    "# variablesin python....we can store int no.,float,string\n",
    "number1=2\n",
    "print(number1)\n",
    "number1=4\n",
    "print(number1)\n",
    "name=\"jaya\"\n",
    "print(name)\n",
    "name=123\n",
    "print(name)\n",
    "# python is also known as dynamic programming language means the language in which the datas are changing.\n",
    "# in above first we have store string and on the same variable we store the integer value."
   ]
  },
  {
   "cell_type": "code",
   "execution_count": 13,
   "metadata": {},
   "outputs": [
    {
     "name": "stdout",
     "output_type": "stream",
     "text": [
      "jaya\n"
     ]
    }
   ],
   "source": [
    "# Rule of variable\n",
    "# 1. you cannot start a variable with a number.\n",
    "#         means you can write as 1number=4.you will get a syntax error.\n",
    "# 2.you can starts a variable by a letter or a underscore.\n",
    "_name=\"jaya\"\n",
    "print(_name)\n",
    "# 3.you cannot starts a variable by a special symbol like $,@,%,#,!."
   ]
  },
  {
   "cell_type": "code",
   "execution_count": null,
   "metadata": {},
   "outputs": [],
   "source": [
    "# Naming convension for variables....\n",
    "# if you are using 3 words in the name of one variable like useronename then separate the word with an underscore(_)\n",
    "# like:-user_one_name.this type of writing is known as snake case writing.\n",
    "#UserOneName:-this type of typing is known as camel case typing. "
   ]
  }
 ],
 "metadata": {
  "kernelspec": {
   "display_name": "Python 3",
   "language": "python",
   "name": "python3"
  },
  "language_info": {
   "codemirror_mode": {
    "name": "ipython",
    "version": 3
   },
   "file_extension": ".py",
   "mimetype": "text/x-python",
   "name": "python",
   "nbconvert_exporter": "python",
   "pygments_lexer": "ipython3",
   "version": "3.7.1"
  }
 },
 "nbformat": 4,
 "nbformat_minor": 2
}
