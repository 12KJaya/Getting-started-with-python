{
 "cells": [
  {
   "cell_type": "code",
   "execution_count": 3,
   "metadata": {},
   "outputs": [
    {
     "name": "stdout",
     "output_type": "stream",
     "text": [
      "{'name': 'Jaya', 'age': 18}\n",
      "<class 'dict'>\n"
     ]
    }
   ],
   "source": [
    "user={'name':'Jaya','age':18}\n",
    "print(user)\n",
    "print(type(user))"
   ]
  },
  {
   "cell_type": "code",
   "execution_count": 4,
   "metadata": {},
   "outputs": [
    {
     "name": "stdout",
     "output_type": "stream",
     "text": [
      "{'name': 'jaya', 'age': 18}\n",
      "<class 'dict'>\n"
     ]
    }
   ],
   "source": [
    "user=dict(name='jaya',age=18)\n",
    "print(user)\n",
    "print(type(user))"
   ]
  },
  {
   "cell_type": "code",
   "execution_count": 6,
   "metadata": {},
   "outputs": [
    {
     "name": "stdout",
     "output_type": "stream",
     "text": [
      "Jaya\n",
      "18\n"
     ]
    }
   ],
   "source": [
    "user={'name':'Jaya','age':18}\n",
    "print(user['name'])\n",
    "print(user['age'])"
   ]
  },
  {
   "cell_type": "code",
   "execution_count": 11,
   "metadata": {},
   "outputs": [
    {
     "name": "stdout",
     "output_type": "stream",
     "text": [
      "['coco', 'kimi no na wa']\n",
      "['awakening', 'fairy tale']\n",
      "18\n",
      "Jaya\n",
      "<class 'dict'>\n"
     ]
    }
   ],
   "source": [
    "user_info={\n",
    "    'name':'Jaya',\n",
    "    'age':18,\n",
    "    'fav_movies':['coco','kimi no na wa'],\n",
    "    'fav_tunes':['awakening','fairy tale']\n",
    "}\n",
    "print(user_info['fav_movies'])\n",
    "print(user_info['fav_tunes'])\n",
    "print(user_info['age'])\n",
    "print(user_info['name'])\n",
    "print(type(user_info))"
   ]
  },
  {
   "cell_type": "code",
   "execution_count": 15,
   "metadata": {},
   "outputs": [
    {
     "name": "stdout",
     "output_type": "stream",
     "text": [
      "{'name': 'jaya'}\n"
     ]
    }
   ],
   "source": [
    "user_info={}\n",
    "user_info['name']='jaya'\n",
    "print(user_info)"
   ]
  },
  {
   "cell_type": "code",
   "execution_count": 17,
   "metadata": {},
   "outputs": [
    {
     "name": "stdout",
     "output_type": "stream",
     "text": [
      "{'name': 'Jaya', 'age': 18}\n"
     ]
    }
   ],
   "source": [
    "user={}\n",
    "user['name']='Jaya'\n",
    "user['age']=18\n",
    "print(user)"
   ]
  },
  {
   "cell_type": "code",
   "execution_count": 18,
   "metadata": {},
   "outputs": [
    {
     "name": "stdout",
     "output_type": "stream",
     "text": [
      "present\n"
     ]
    }
   ],
   "source": [
    "user_info={\n",
    "    'name':'Jaya',\n",
    "    'age':18,\n",
    "    'fav_movies':['coco','kimi no na wa'],\n",
    "    'fav_tunes':['awakening','fairy tale']\n",
    "}\n",
    "if 'name' in user_info:\n",
    "    print('present')\n",
    "else:\n",
    "    print('not present')"
   ]
  },
  {
   "cell_type": "code",
   "execution_count": 21,
   "metadata": {},
   "outputs": [
    {
     "name": "stdout",
     "output_type": "stream",
     "text": [
      "present\n"
     ]
    }
   ],
   "source": [
    "user_info={\n",
    "    'name':'Jaya',\n",
    "    'age':18,\n",
    "    'fav_movies':['coco','kiwi no na wa'],\n",
    "    'fav_tunes':['awakening','fairy tales']\n",
    "}\n",
    "if 18 in user_info.values():\n",
    "    print('present')\n",
    "else:\n",
    "    print('not present')"
   ]
  },
  {
   "cell_type": "code",
   "execution_count": 22,
   "metadata": {},
   "outputs": [
    {
     "name": "stdout",
     "output_type": "stream",
     "text": [
      "name\n",
      "age\n",
      "fav_movies\n",
      "fav_tunes\n"
     ]
    }
   ],
   "source": [
    "user_info={\n",
    "    'name':'jaya',\n",
    "    'age':18,\n",
    "    'fav_movies':['coco','kiwi no na wa'],\n",
    "    'fav_tunes':['awakening','fairy tales']\n",
    "}\n",
    "for i in user_info:\n",
    "    print(i)"
   ]
  },
  {
   "cell_type": "code",
   "execution_count": 24,
   "metadata": {},
   "outputs": [
    {
     "name": "stdout",
     "output_type": "stream",
     "text": [
      "Jaya\n",
      "18\n",
      "['coco', 'kiwi no na wa']\n",
      "['awakening', 'fairy tales']\n"
     ]
    }
   ],
   "source": [
    "user_info={\n",
    "    'name':'Jaya',\n",
    "    'age':18,\n",
    "    'fav_movies':['coco','kiwi no na wa'],\n",
    "    'fav_tunes':['awakening','fairy tales']\n",
    "}\n",
    "for i in user_info.values():\n",
    "    print(i)"
   ]
  },
  {
   "cell_type": "code",
   "execution_count": 25,
   "metadata": {},
   "outputs": [
    {
     "name": "stdout",
     "output_type": "stream",
     "text": [
      "dict_values(['Jaya', 18, ['coco', 'kiwi no na wa'], ['awakening', 'fairy tales']])\n",
      "<class 'dict_values'>\n"
     ]
    }
   ],
   "source": [
    "user_info_values=user_info.values()\n",
    "print(user_info_values)\n",
    "print(type(user_info_values))"
   ]
  },
  {
   "cell_type": "code",
   "execution_count": 26,
   "metadata": {},
   "outputs": [
    {
     "name": "stdout",
     "output_type": "stream",
     "text": [
      "dict_keys(['name', 'age', 'fav_movies', 'fav_tunes'])\n",
      "<class 'dict_keys'>\n"
     ]
    }
   ],
   "source": [
    "user_info_keys=user_info.keys()\n",
    "print(user_info_keys)\n",
    "print(type(user_info_keys))"
   ]
  },
  {
   "cell_type": "code",
   "execution_count": 29,
   "metadata": {},
   "outputs": [
    {
     "name": "stdout",
     "output_type": "stream",
     "text": [
      "Jaya\n",
      "18\n",
      "['coco', 'kiwi no na wa']\n",
      "['awakening', 'fairy tales']\n"
     ]
    }
   ],
   "source": [
    "user_info={\n",
    "    'name':'Jaya',\n",
    "    'age':18,\n",
    "    'fav_movies':['coco','kiwi no na wa'],\n",
    "    'fav_tunes':['awakening','fairy tales']\n",
    "}\n",
    "for i in user_info:\n",
    "    print(user_info[i])"
   ]
  },
  {
   "cell_type": "code",
   "execution_count": 30,
   "metadata": {},
   "outputs": [
    {
     "name": "stdout",
     "output_type": "stream",
     "text": [
      "dict_items([('name', 'Jaya'), ('age', 18), ('fav_movies', ['coco', 'kiwi no na wa']), ('fav_tunes', ['awakening', 'fairy tales'])])\n",
      "<class 'dict_items'>\n"
     ]
    }
   ],
   "source": [
    "user_items=user_info.items()\n",
    "print(user_items)\n",
    "print(type(user_items))"
   ]
  },
  {
   "cell_type": "code",
   "execution_count": 33,
   "metadata": {},
   "outputs": [
    {
     "name": "stdout",
     "output_type": "stream",
     "text": [
      "key is name and value isJaya\n",
      "key is age and value is18\n",
      "key is fav_movies and value is['coco', 'kiwi no na wa']\n",
      "key is fav_tunes and value is['awakening', 'fairy tales']\n"
     ]
    }
   ],
   "source": [
    "for key,values in user_info.items():\n",
    "    print(f\"key is {key} and value is{values}\")"
   ]
  },
  {
   "cell_type": "code",
   "execution_count": 35,
   "metadata": {},
   "outputs": [
    {
     "name": "stdout",
     "output_type": "stream",
     "text": [
      "('name', 'Jaya')\n",
      "('age', 18)\n",
      "('fav_movies', ['coco', 'kiwi no na wa'])\n",
      "('fav_tunes', ['awakening', 'fairy tales'])\n"
     ]
    }
   ],
   "source": [
    "for i in user_info.items():\n",
    "    print(i)"
   ]
  },
  {
   "cell_type": "code",
   "execution_count": null,
   "metadata": {},
   "outputs": [],
   "source": []
  }
 ],
 "metadata": {
  "kernelspec": {
   "display_name": "Python 3",
   "language": "python",
   "name": "python3"
  },
  "language_info": {
   "codemirror_mode": {
    "name": "ipython",
    "version": 3
   },
   "file_extension": ".py",
   "mimetype": "text/x-python",
   "name": "python",
   "nbconvert_exporter": "python",
   "pygments_lexer": "ipython3",
   "version": "3.7.1"
  }
 },
 "nbformat": 4,
 "nbformat_minor": 2
}
