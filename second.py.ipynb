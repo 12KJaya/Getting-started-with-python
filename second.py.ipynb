{
 "cells": [
  {
   "cell_type": "code",
   "execution_count": 7,
   "metadata": {},
   "outputs": [
    {
     "name": "stdout",
     "output_type": "stream",
     "text": [
      "jaya kumari\n",
      "jaya kumari3\n",
      "jaya kumarijaya kumarijaya kumari\n"
     ]
    }
   ],
   "source": [
    "# String Concatenation....string is a collection of characters inside singlequote and doublequote.\n",
    "# concatenation means adding two strings.\n",
    "first_name=\"jaya\"\n",
    "second_name=\"kumari\"\n",
    "full_name=first_name+\" \"+second_name\n",
    "print(full_name)\n",
    "# print(full_name+3)....you will get a syntax error saying you cannot add a no. to a string.\n",
    "print(full_name+str(3))\n",
    "print(full_name*3)"
   ]
  },
  {
   "cell_type": "code",
   "execution_count": 9,
   "metadata": {},
   "outputs": [
    {
     "name": "stdout",
     "output_type": "stream",
     "text": [
      "type your namejaya\n",
      "hellojaya\n",
      "what is your age?18\n",
      "your age is18\n"
     ]
    }
   ],
   "source": [
    "# user input()....to take the input from the user you have to use input function.\n",
    "name=input(\"type your name\")\n",
    "print(\"hello\"+name)\n",
    "# Note:-input () always take the input in string.\n",
    "age=input(\"what is your age?\")\n",
    "print(\"your age is\"+age)"
   ]
  },
  {
   "cell_type": "code",
   "execution_count": 10,
   "metadata": {},
   "outputs": [
    {
     "name": "stdout",
     "output_type": "stream",
     "text": [
      "enter first number=2\n",
      "enter second number=2\n",
      "total is22\n"
     ]
    }
   ],
   "source": [
    "# int function()\n",
    "number1=input(\"enter first number=\")\n",
    "number2=input(\"enter second number=\")\n",
    "total=number1+number2\n",
    "print(\"total is\"+total)\n",
    "# the above example will not gives the sum of the twop numbers because input function() always take the input in string."
   ]
  },
  {
   "cell_type": "code",
   "execution_count": 13,
   "metadata": {},
   "outputs": [
    {
     "name": "stdout",
     "output_type": "stream",
     "text": [
      "enter first number=2\n",
      "enter second number=2\n",
      "total is=4\n"
     ]
    }
   ],
   "source": [
    "number1=int(input(\"enter first number=\"))\n",
    "number2=int(input(\"enter second number=\"))\n",
    "total=number1+number2\n",
    "# print(\"total is=\"+total)....here also you will get an error saying you cannot concatenate a number with a string.so firstly you have to convert this to string then concatenate this.\n",
    "print(\"total is=\"+str(total))"
   ]
  },
  {
   "cell_type": "code",
   "execution_count": 14,
   "metadata": {},
   "outputs": [
    {
     "name": "stdout",
     "output_type": "stream",
     "text": [
      "77.0\n"
     ]
    }
   ],
   "source": [
    "# note:-str()....change int to str(4--->\"4\")\n",
    "#       int()....change str to int(\"4\"--->4)\n",
    "#       float()....change str to float(\"4\"--->4.0)\n",
    "no1=str(4)\n",
    "no2=float(\"44\")\n",
    "no3=int(\"33\")\n",
    "print(no2+no3)"
   ]
  },
  {
   "cell_type": "code",
   "execution_count": 19,
   "metadata": {},
   "outputs": [
    {
     "name": "stdout",
     "output_type": "stream",
     "text": [
      "hello Jaya your age is 18\n"
     ]
    }
   ],
   "source": [
    "# More about variables\n",
    "# how to daclare more than one variable in one line?\n",
    "name,age=\"Jaya\",18\n",
    "# print(\"hello \"+name+\" your age is \"+age)here you will get an error saying you cannot concatenate a no. with a str.so first convert it into str then concatenate it.\n",
    "print(\"hello \"+name+\" your age is \"+str(age))"
   ]
  },
  {
   "cell_type": "code",
   "execution_count": 20,
   "metadata": {},
   "outputs": [
    {
     "name": "stdout",
     "output_type": "stream",
     "text": [
      "1\n",
      "1\n",
      "1\n",
      "3\n"
     ]
    }
   ],
   "source": [
    "# you can give same value to more than one variable.\n",
    "x=y=z=1\n",
    "print(x)\n",
    "print(y)\n",
    "print(z)\n",
    "print(x+y+z)"
   ]
  },
  {
   "cell_type": "code",
   "execution_count": 25,
   "metadata": {},
   "outputs": [
    {
     "name": "stdout",
     "output_type": "stream",
     "text": [
      "enter your name and agejaya 12\n",
      "jaya\n",
      "12\n"
     ]
    }
   ],
   "source": [
    "# Two or more input in one line....split() is a string method.\n",
    "# split at space.\n",
    "name,age=input(\"enter your name and age\").split()\n",
    "print(name)\n",
    "print(age)"
   ]
  },
  {
   "cell_type": "code",
   "execution_count": 26,
   "metadata": {},
   "outputs": [
    {
     "name": "stdout",
     "output_type": "stream",
     "text": [
      "enter your name and agejaya,12\n",
      "jaya\n",
      "12\n"
     ]
    }
   ],
   "source": [
    "name,age=input(\"enter your name and age\").split(\",\")\n",
    "print(name)\n",
    "print(age)"
   ]
  },
  {
   "cell_type": "code",
   "execution_count": 28,
   "metadata": {},
   "outputs": [
    {
     "name": "stdout",
     "output_type": "stream",
     "text": [
      "hello jaya your age is 24\n"
     ]
    }
   ],
   "source": [
    "# String Formatting....placeholder{}\n",
    "# python 3\n",
    "name=\"jaya\"\n",
    "age=24\n",
    "print(\"hello {} your age is {}\".format(name,age))\n",
    "# In the above code you don't have to to worry about str. or int. it will accept all."
   ]
  },
  {
   "cell_type": "code",
   "execution_count": 29,
   "metadata": {},
   "outputs": [
    {
     "name": "stdout",
     "output_type": "stream",
     "text": [
      "hello jaya your age is 19\n"
     ]
    }
   ],
   "source": [
    "# In python 3.6....never forget f in the beginning of the string.\n",
    "name=\"jaya\"\n",
    "age=19\n",
    "print(f\"hello {name} your age is {age}\")"
   ]
  },
  {
   "cell_type": "code",
   "execution_count": 30,
   "metadata": {},
   "outputs": [
    {
     "name": "stdout",
     "output_type": "stream",
     "text": [
      "hello jaya your age is 19\n"
     ]
    }
   ],
   "source": [
    "name=\"jaya\"\n",
    "age=16\n",
    "print(f\"hello {name} your age is {age+3}\")"
   ]
  },
  {
   "cell_type": "code",
   "execution_count": 38,
   "metadata": {},
   "outputs": [
    {
     "name": "stdout",
     "output_type": "stream",
     "text": [
      "enter 3 no.2 2 2\n",
      "average of the three number is 2.0\n"
     ]
    }
   ],
   "source": [
    "# Exercise\n",
    "# Ask the user to input 3 no. and you have to print average of three no. using string formatting.\n",
    "no1,no2,no3=input(\"enter 3 no.\").split()\n",
    "average=(int(no1)+int(no2)+int(no3))/3\n",
    "print(f\"average of the three number is {average}\")"
   ]
  },
  {
   "cell_type": "code",
   "execution_count": 40,
   "metadata": {},
   "outputs": [
    {
     "name": "stdout",
     "output_type": "stream",
     "text": [
      "t\n",
      "o\n"
     ]
    }
   ],
   "source": [
    "# String Indexing\n",
    "language=\"python\"\n",
    "# position(index number)\n",
    "# p=0\n",
    "# y=1\n",
    "# t=2\n",
    "# h=3\n",
    "# o=4\n",
    "# n=5\n",
    "print(language[2])\n",
    "print(language[4])"
   ]
  },
  {
   "cell_type": "code",
   "execution_count": 45,
   "metadata": {},
   "outputs": [
    {
     "name": "stdout",
     "output_type": "stream",
     "text": [
      "a\n",
      "J\n"
     ]
    }
   ],
   "source": [
    "language=\"Java\"\n",
    "# print(language[4]) this stmt will gives you error saying string index out of bound as-\n",
    "# position(index number)\n",
    "# J=0\n",
    "# a=1\n",
    "# v=2\n",
    "# a=3\n",
    "print(language[3])\n",
    "print(language[0])"
   ]
  },
  {
   "cell_type": "code",
   "execution_count": 48,
   "metadata": {},
   "outputs": [
    {
     "name": "stdout",
     "output_type": "stream",
     "text": [
      "n\n",
      "p\n"
     ]
    }
   ],
   "source": [
    "#  If you don't know how many characters are there in a string and you want to print the last character. then indexing will be done as-\n",
    "language=\"python\"\n",
    "# p=-6\n",
    "# y=-5\n",
    "# t=-4\n",
    "# h=-3\n",
    "# o=-2\n",
    "# n=-1\n",
    "print(language[-1])\n",
    "print(language[-6])\n",
    "# if you write like this print(language[-7]) you will get an error saying array index out of range."
   ]
  },
  {
   "cell_type": "code",
   "execution_count": 55,
   "metadata": {},
   "outputs": [
    {
     "name": "stdout",
     "output_type": "stream",
     "text": [
      "tho\n",
      "th\n",
      "hon\n",
      "p\n",
      "python\n"
     ]
    }
   ],
   "source": [
    "# String slicing/Select subsequence....to print more than one character we use string slicing.\n",
    "# Syntax--->[start argument: stop argument-1]\n",
    "language=\"python\"\n",
    "# p=0\n",
    "# y=1\n",
    "# t=2\n",
    "# h=3\n",
    "# o=4\n",
    "# n=5\n",
    "print(language[2:5])\n",
    "print(language[2:4])\n",
    "print(language[3:6])\n",
    "print(language[0:1])\n",
    "print(language[:])"
   ]
  },
  {
   "cell_type": "code",
   "execution_count": null,
   "metadata": {},
   "outputs": [],
   "source": []
  },
  {
   "cell_type": "code",
   "execution_count": null,
   "metadata": {},
   "outputs": [],
   "source": []
  }
 ],
 "metadata": {
  "kernelspec": {
   "display_name": "Python 3",
   "language": "python",
   "name": "python3"
  },
  "language_info": {
   "codemirror_mode": {
    "name": "ipython",
    "version": 3
   },
   "file_extension": ".py",
   "mimetype": "text/x-python",
   "name": "python",
   "nbconvert_exporter": "python",
   "pygments_lexer": "ipython3",
   "version": "3.7.1"
  }
 },
 "nbformat": 4,
 "nbformat_minor": 2
}
